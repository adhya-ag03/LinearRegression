{
  "cells": [
    {
      "cell_type": "code",
      "execution_count": null,
      "id": "02d7e774-9603-4055-93aa-c22dc5d8d7fe",
      "metadata": {
        "id": "02d7e774-9603-4055-93aa-c22dc5d8d7fe"
      },
      "outputs": [],
      "source": [
        "import pandas as pd;\n",
        "import numpy as np;\n",
        "import matplotlib.pyplot as plt;\n",
        "from sklearn.linear_model import LinearRegression;\n",
        "from sklearn.model_selection import train_test_split;\n",
        "from sklearn.model_selection import cross_val_score;"
      ]
    },
    {
      "cell_type": "code",
      "execution_count": null,
      "id": "2bf7bebd-a890-4a77-830c-7c281e7e15da",
      "metadata": {
        "id": "2bf7bebd-a890-4a77-830c-7c281e7e15da",
        "outputId": "66f07295-3f65-4f96-9a80-2718ca822c4f"
      },
      "outputs": [
        {
          "data": {
            "text/plain": [
              "(30, 2)"
            ]
          },
          "execution_count": 35,
          "metadata": {},
          "output_type": "execute_result"
        }
      ],
      "source": [
        "data = pd.read_csv(\"Salary_Data.csv\")\n",
        "data.shape"
      ]
    },
    {
      "cell_type": "code",
      "execution_count": null,
      "id": "e88ade13-8456-4968-90ad-b0c722c60b1f",
      "metadata": {
        "id": "e88ade13-8456-4968-90ad-b0c722c60b1f",
        "outputId": "35821d5a-108a-44fa-da4d-0623b43d27cc"
      },
      "outputs": [
        {
          "data": {
            "text/html": [
              "<div>\n",
              "<style scoped>\n",
              "    .dataframe tbody tr th:only-of-type {\n",
              "        vertical-align: middle;\n",
              "    }\n",
              "\n",
              "    .dataframe tbody tr th {\n",
              "        vertical-align: top;\n",
              "    }\n",
              "\n",
              "    .dataframe thead th {\n",
              "        text-align: right;\n",
              "    }\n",
              "</style>\n",
              "<table border=\"1\" class=\"dataframe\">\n",
              "  <thead>\n",
              "    <tr style=\"text-align: right;\">\n",
              "      <th></th>\n",
              "      <th>YearsExperience</th>\n",
              "      <th>Salary</th>\n",
              "    </tr>\n",
              "  </thead>\n",
              "  <tbody>\n",
              "    <tr>\n",
              "      <th>0</th>\n",
              "      <td>1.1</td>\n",
              "      <td>39343.0</td>\n",
              "    </tr>\n",
              "    <tr>\n",
              "      <th>1</th>\n",
              "      <td>1.3</td>\n",
              "      <td>46205.0</td>\n",
              "    </tr>\n",
              "    <tr>\n",
              "      <th>2</th>\n",
              "      <td>1.5</td>\n",
              "      <td>37731.0</td>\n",
              "    </tr>\n",
              "    <tr>\n",
              "      <th>3</th>\n",
              "      <td>2.0</td>\n",
              "      <td>43525.0</td>\n",
              "    </tr>\n",
              "    <tr>\n",
              "      <th>4</th>\n",
              "      <td>2.2</td>\n",
              "      <td>39891.0</td>\n",
              "    </tr>\n",
              "  </tbody>\n",
              "</table>\n",
              "</div>"
            ],
            "text/plain": [
              "   YearsExperience   Salary\n",
              "0              1.1  39343.0\n",
              "1              1.3  46205.0\n",
              "2              1.5  37731.0\n",
              "3              2.0  43525.0\n",
              "4              2.2  39891.0"
            ]
          },
          "execution_count": 36,
          "metadata": {},
          "output_type": "execute_result"
        }
      ],
      "source": [
        "data.head()"
      ]
    },
    {
      "cell_type": "code",
      "execution_count": null,
      "id": "6852a992-717d-4620-acbf-92a8e8db830e",
      "metadata": {
        "id": "6852a992-717d-4620-acbf-92a8e8db830e",
        "outputId": "4f827711-fa81-407a-f41e-fce371738709"
      },
      "outputs": [
        {
          "name": "stdout",
          "output_type": "stream",
          "text": [
            "<class 'pandas.core.frame.DataFrame'>\n",
            "RangeIndex: 30 entries, 0 to 29\n",
            "Data columns (total 2 columns):\n",
            " #   Column           Non-Null Count  Dtype  \n",
            "---  ------           --------------  -----  \n",
            " 0   YearsExperience  30 non-null     float64\n",
            " 1   Salary           30 non-null     float64\n",
            "dtypes: float64(2)\n",
            "memory usage: 608.0 bytes\n"
          ]
        }
      ],
      "source": [
        "data.info()"
      ]
    },
    {
      "cell_type": "code",
      "execution_count": null,
      "id": "9384f692-9d57-443a-a65b-f3ba75776bc3",
      "metadata": {
        "id": "9384f692-9d57-443a-a65b-f3ba75776bc3"
      },
      "outputs": [],
      "source": [
        "x = data[['YearsExperience']].values\n",
        "y = data['Salary'].values"
      ]
    },
    {
      "cell_type": "code",
      "execution_count": null,
      "id": "c04c9645-f801-40e6-b4ae-58e6f3ef63ad",
      "metadata": {
        "id": "c04c9645-f801-40e6-b4ae-58e6f3ef63ad"
      },
      "outputs": [],
      "source": [
        "#x = data.iloc[:,0].values.reshape(len(data),1)\n",
        "#y = data.iloc[:,1].values"
      ]
    },
    {
      "cell_type": "code",
      "execution_count": null,
      "id": "88d1f433-223d-4ae5-a103-5aceb5cc6202",
      "metadata": {
        "id": "88d1f433-223d-4ae5-a103-5aceb5cc6202"
      },
      "outputs": [],
      "source": [
        "xtrain,xtest,ytrain,ytest=train_test_split(x,y,train_size=0.8,random_state=2);"
      ]
    },
    {
      "cell_type": "code",
      "execution_count": null,
      "id": "37d4bce0-d33d-463e-803e-33ab999ba94c",
      "metadata": {
        "id": "37d4bce0-d33d-463e-803e-33ab999ba94c"
      },
      "outputs": [],
      "source": [
        "model=LinearRegression();"
      ]
    },
    {
      "cell_type": "code",
      "execution_count": null,
      "id": "75fe677a-787b-4330-8247-0fa41f5e4cb9",
      "metadata": {
        "id": "75fe677a-787b-4330-8247-0fa41f5e4cb9"
      },
      "outputs": [],
      "source": [
        "model.fit(xtrain,ytrain);\n",
        "ypred=model.predict(xtest);"
      ]
    },
    {
      "cell_type": "code",
      "execution_count": null,
      "id": "19d5afbe-0478-4f4a-b476-d82467f2a45c",
      "metadata": {
        "id": "19d5afbe-0478-4f4a-b476-d82467f2a45c",
        "outputId": "e9159867-6f41-40a7-d29b-ccf44f7f60be"
      },
      "outputs": [
        {
          "data": {
            "text/plain": [
              "array([36833.63210301, 34919.71472592, 67456.3101364 , 59800.64062805,\n",
              "       92337.23603852, 81810.69046455])"
            ]
          },
          "execution_count": 43,
          "metadata": {},
          "output_type": "execute_result"
        }
      ],
      "source": [
        "c\n"
      ]
    },
    {
      "cell_type": "code",
      "execution_count": null,
      "id": "e44fbe0e-cf87-40d1-ad2b-3caa03546b30",
      "metadata": {
        "id": "e44fbe0e-cf87-40d1-ad2b-3caa03546b30",
        "outputId": "7fdcbb53-f8aa-43cc-cb4b-d308349ea47f"
      },
      "outputs": [
        {
          "data": {
            "text/plain": [
              "array([46205., 39343., 61111., 57189., 98273., 93940.])"
            ]
          },
          "execution_count": 44,
          "metadata": {},
          "output_type": "execute_result"
        }
      ],
      "source": [
        "ytest"
      ]
    },
    {
      "cell_type": "code",
      "execution_count": null,
      "id": "9ed50338-6f9e-43b0-bf8f-0562d0a89ace",
      "metadata": {
        "id": "9ed50338-6f9e-43b0-bf8f-0562d0a89ace",
        "outputId": "8a4f4315-3dab-4659-aeb2-6148da1b1b3c"
      },
      "outputs": [
        {
          "name": "stdout",
          "output_type": "stream",
          "text": [
            "MAE: 6802.779572073898\n",
            "MSE: 56137509.9978255\n",
            "RMSE: 7492.496913434499\n"
          ]
        }
      ],
      "source": [
        "from sklearn import metrics\n",
        "print('MAE:', metrics.mean_absolute_error(ytest, ypred))\n",
        "print('MSE:', metrics.mean_squared_error(ytest, ypred))\n",
        "print('RMSE:', np.sqrt(metrics.mean_squared_error(ytest, ypred)))"
      ]
    },
    {
      "cell_type": "code",
      "execution_count": null,
      "id": "b575e26c-f4c5-49aa-a258-3d2e831d4e17",
      "metadata": {
        "id": "b575e26c-f4c5-49aa-a258-3d2e831d4e17"
      },
      "outputs": [],
      "source": [
        "from sklearn.metrics import r2_score;\n",
        "score=r2_score(ytest,ypred);"
      ]
    },
    {
      "cell_type": "code",
      "execution_count": null,
      "id": "d981832f-5c17-4aab-9334-f522fc60aee2",
      "metadata": {
        "id": "d981832f-5c17-4aab-9334-f522fc60aee2",
        "outputId": "94696b37-9adf-4db0-e9c3-b3c817409d7e"
      },
      "outputs": [
        {
          "data": {
            "text/plain": [
              "0.8886956733784565"
            ]
          },
          "execution_count": 16,
          "metadata": {},
          "output_type": "execute_result"
        }
      ],
      "source": [
        "score"
      ]
    },
    {
      "cell_type": "code",
      "execution_count": null,
      "id": "30b2535a-42ee-4fb9-8a0c-b0df071cc81e",
      "metadata": {
        "id": "30b2535a-42ee-4fb9-8a0c-b0df071cc81e",
        "outputId": "25e34b17-4100-4cb1-ec6a-7dc370e2199e"
      },
      "outputs": [
        {
          "data": {
            "image/png": "[encoded data removed]",
            "text/plain": [
              "<Figure size 432x288 with 1 Axes>"
            ]
          },
          "metadata": {
            "needs_background": "light"
          },
          "output_type": "display_data"
        }
      ],
      "source": [
        "### Draw line of regression (Training Samples)\n",
        "plt.scatter(xtrain,ytrain,color=\"blue\",label=\"Actual Points\",s=80)\n",
        "plt.scatter(xtrain,model.predict(xtrain),color=\"red\",label=\"Predicted Points\",s=80)\n",
        "plt.plot(xtrain,model.predict(xtrain),color='yellow',lw=3,label=\"Line of Regression\")\n",
        "plt.legend()\n",
        "plt.show()"
      ]
    },
    {
      "cell_type": "code",
      "execution_count": null,
      "id": "b6d325ea-ba8a-400b-96bc-b27a41e19dcb",
      "metadata": {
        "id": "b6d325ea-ba8a-400b-96bc-b27a41e19dcb",
        "outputId": "92f46614-1b5a-4ba7-edd1-33de9d667ab8"
      },
      "outputs": [
        {
          "data": {
            "image/png": "[encoded data removed]",
            "text/plain": [
              "<Figure size 432x288 with 1 Axes>"
            ]
          },
          "metadata": {
            "needs_background": "light"
          },
          "output_type": "display_data"
        }
      ],
      "source": [
        "### Draw line of regression (Testing Samples)\n",
        "plt.scatter(xtest,ytest,color=\"blue\",label=\"Actual Points\",s=80)\n",
        "plt.scatter(xtest,model.predict(xtest),color=\"red\",label=\"Predicted Points\",s=80)\n",
        "plt.plot(xtest,model.predict(xtest),color='yellow',lw=3,label=\"Line of Regression\")\n",
        "plt.legend()\n",
        "plt.show()"
      ]
    },
    {
      "cell_type": "code",
      "execution_count": null,
      "id": "53260bc5-2705-4699-ae31-49952901cc65",
      "metadata": {
        "id": "53260bc5-2705-4699-ae31-49952901cc65",
        "outputId": "0b9dd35d-6d6c-4559-c442-5b8b0b65af4d"
      },
      "outputs": [
        {
          "data": {
            "text/plain": [
              "24393.16915194835"
            ]
          },
          "execution_count": 20,
          "metadata": {},
          "output_type": "execute_result"
        }
      ],
      "source": [
        "model.intercept_"
      ]
    },
    {
      "cell_type": "code",
      "execution_count": null,
      "id": "472223bb-417b-4280-8f01-d4f8457c8875",
      "metadata": {
        "id": "472223bb-417b-4280-8f01-d4f8457c8875"
      },
      "outputs": [],
      "source": [
        "accuracy = []\n",
        "for i in range(501):\n",
        "  xtrain_1,xtest_1,ytrain_1,ytest_1 = train_test_split(x,y,train_size=0.80,random_state=i)\n",
        "  model_1 = LinearRegression()\n",
        "  model_1.fit(xtrain_1,ytrain_1)\n",
        "  ypred_1 = model_1.predict(xtest_1)\n",
        "  score_1 = r2_score(ytest_1,ypred_1)\n",
        "  accuracy.append(score_1)"
      ]
    },
    {
      "cell_type": "code",
      "execution_count": null,
      "id": "46824a4e-c0e9-4880-832b-7d30ea6fd943",
      "metadata": {
        "id": "46824a4e-c0e9-4880-832b-7d30ea6fd943",
        "outputId": "7b8fb59a-7379-4155-a850-5547e2c5072c"
      },
      "outputs": [
        {
          "name": "stdout",
          "output_type": "stream",
          "text": [
            "0.9952429110093546\n",
            "200\n"
          ]
        }
      ],
      "source": [
        "import numpy as np\n",
        "print(np.max(accuracy))\n",
        "print(np.argmax(accuracy))"
      ]
    },
    {
      "cell_type": "code",
      "execution_count": null,
      "id": "6609257a-e1e3-4999-b188-7b82ef060e97",
      "metadata": {
        "id": "6609257a-e1e3-4999-b188-7b82ef060e97",
        "outputId": "ec8e7703-ae1e-483b-e69e-533f13820ecd"
      },
      "outputs": [
        {
          "data": {
            "text/plain": [
              "167936.97243344132"
            ]
          },
          "execution_count": 25,
          "metadata": {},
          "output_type": "execute_result"
        }
      ],
      "source": [
        "model.predict([[15]])[0]"
      ]
    },
    {
      "cell_type": "code",
      "execution_count": null,
      "id": "4b31451b-c65f-4fd1-ab8d-084bfd6c431b",
      "metadata": {
        "id": "4b31451b-c65f-4fd1-ab8d-084bfd6c431b"
      },
      "outputs": [],
      "source": [
        "def salary():\n",
        "  exp = float(input(\"Enter Work Experience in Years:\"))\n",
        "  sal = model.predict([[exp]])\n",
        "  print(\"The expected salary would be \"+str(round(sal[0],2)))"
      ]
    },
    {
      "cell_type": "code",
      "execution_count": null,
      "id": "1902971c-ae21-4d23-bae0-a0ee47d199ea",
      "metadata": {
        "id": "1902971c-ae21-4d23-bae0-a0ee47d199ea",
        "outputId": "3c3cc4b4-9ef1-40f8-b152-2c90a50526a6"
      },
      "outputs": [
        {
          "name": "stdin",
          "output_type": "stream",
          "text": [
            "Enter Work Experience in Years: 4\n"
          ]
        },
        {
          "name": "stdout",
          "output_type": "stream",
          "text": [
            "The expected salary would be 62671.52\n"
          ]
        }
      ],
      "source": [
        "salary()"
      ]
    },
    {
      "cell_type": "code",
      "execution_count": null,
      "id": "01f4dc44-9627-427b-be7c-2985a42f9b9a",
      "metadata": {
        "id": "01f4dc44-9627-427b-be7c-2985a42f9b9a"
      },
      "outputs": [],
      "source": [
        "import joblib\n",
        "joblib.dump(model,\"salary.pkl\");"
      ]
    },
    {
      "cell_type": "code",
      "execution_count": null,
      "id": "3a4f249a-466c-4932-bed9-237a6c7c3b64",
      "metadata": {
        "id": "3a4f249a-466c-4932-bed9-237a6c7c3b64"
      },
      "outputs": [],
      "source": [
        "mymodel = joblib.load(\"salary.pkl\");"
      ]
    },
    {
      "cell_type": "code",
      "execution_count": null,
      "id": "c10531dd-0a5d-499b-bc88-c4234c780165",
      "metadata": {
        "id": "c10531dd-0a5d-499b-bc88-c4234c780165",
        "outputId": "484c8d43-70b2-4edd-9ac1-f063810a4733"
      },
      "outputs": [
        {
          "data": {
            "text/plain": [
              "167936.97"
            ]
          },
          "execution_count": 31,
          "metadata": {},
          "output_type": "execute_result"
        }
      ],
      "source": [
        "round(mymodel.predict([[15]])[0],2)"
      ]
    },
    {
      "cell_type": "code",
      "execution_count": null,
      "id": "ec46b3b9-c854-43a1-ab7e-6f97ad90c077",
      "metadata": {
        "colab": {
          "base_uri": "https://localhost:8080/",
          "height": 193
        },
        "id": "ec46b3b9-c854-43a1-ab7e-6f97ad90c077",
        "outputId": "52015774-bcbd-4f96-8a8c-cee76617c3f8"
      },
      "outputs": [
        {
          "output_type": "error",
          "ename": "NameError",
          "evalue": "name 'ytest' is not defined",
          "traceback": [
            "\u001b[0;31m---------------------------------------------------------------------------\u001b[0m",
            "\u001b[0;31mNameError\u001b[0m                                 Traceback (most recent call last)",
            "\u001b[0;32m<ipython-input-1-f960900df389>\u001b[0m in \u001b[0;36m<cell line: 2>\u001b[0;34m()\u001b[0m\n\u001b[1;32m      1\u001b[0m \u001b[0;32mfrom\u001b[0m \u001b[0msklearn\u001b[0m \u001b[0;32mimport\u001b[0m \u001b[0mmetrics\u001b[0m\u001b[0;34m\u001b[0m\u001b[0;34m\u001b[0m\u001b[0m\n\u001b[0;32m----> 2\u001b[0;31m \u001b[0mprint\u001b[0m\u001b[0;34m(\u001b[0m\u001b[0;34m'MAE:'\u001b[0m\u001b[0;34m,\u001b[0m \u001b[0mmetrics\u001b[0m\u001b[0;34m.\u001b[0m\u001b[0mmean_absolute_error\u001b[0m\u001b[0;34m(\u001b[0m\u001b[0mytest\u001b[0m\u001b[0;34m,\u001b[0m \u001b[0mpredictions\u001b[0m\u001b[0;34m)\u001b[0m\u001b[0;34m)\u001b[0m\u001b[0;34m\u001b[0m\u001b[0;34m\u001b[0m\u001b[0m\n\u001b[0m\u001b[1;32m      3\u001b[0m \u001b[0mprint\u001b[0m\u001b[0;34m(\u001b[0m\u001b[0;34m'MSE:'\u001b[0m\u001b[0;34m,\u001b[0m \u001b[0mmetrics\u001b[0m\u001b[0;34m.\u001b[0m\u001b[0mmean_squared_error\u001b[0m\u001b[0;34m(\u001b[0m\u001b[0mytest\u001b[0m\u001b[0;34m,\u001b[0m \u001b[0mpredictions\u001b[0m\u001b[0;34m)\u001b[0m\u001b[0;34m)\u001b[0m\u001b[0;34m\u001b[0m\u001b[0;34m\u001b[0m\u001b[0m\n\u001b[1;32m      4\u001b[0m \u001b[0mprint\u001b[0m\u001b[0;34m(\u001b[0m\u001b[0;34m'RMSE:'\u001b[0m\u001b[0;34m,\u001b[0m \u001b[0mnp\u001b[0m\u001b[0;34m.\u001b[0m\u001b[0msqrt\u001b[0m\u001b[0;34m(\u001b[0m\u001b[0mmetrics\u001b[0m\u001b[0;34m.\u001b[0m\u001b[0mmean_squared_error\u001b[0m\u001b[0;34m(\u001b[0m\u001b[0mytest\u001b[0m\u001b[0;34m,\u001b[0m \u001b[0mpredictions\u001b[0m\u001b[0;34m)\u001b[0m\u001b[0;34m)\u001b[0m\u001b[0;34m)\u001b[0m\u001b[0;34m\u001b[0m\u001b[0;34m\u001b[0m\u001b[0m\n",
            "\u001b[0;31mNameError\u001b[0m: name 'ytest' is not defined"
          ]
        }
      ],
      "source": [
        "from sklearn import metrics\n",
        "print('MAE:', metrics.mean_absolute_error(ytest, predictions))\n",
        "print('MSE:', metrics.mean_squared_error(ytest, predictions))\n",
        "print('RMSE:', np.sqrt(metrics.mean_squared_error(ytest, predictions)))"
      ]
    },
    {
      "cell_type": "code",
      "execution_count": null,
      "id": "36f52077-e659-40fa-a909-149493a261f4",
      "metadata": {
        "id": "36f52077-e659-40fa-a909-149493a261f4"
      },
      "outputs": [],
      "source": []
    }
  ],
  "metadata": {
    "kernelspec": {
      "display_name": "Python 3 (ipykernel)",
      "language": "python",
      "name": "python3"
    },
    "language_info": {
      "codemirror_mode": {
        "name": "ipython",
        "version": 3
      },
      "file_extension": ".py",
      "mimetype": "text/x-python",
      "name": "python",
      "nbconvert_exporter": "python",
      "pygments_lexer": "ipython3",
      "version": "3.9.7"
    },
    "colab": {
      "provenance": []
    }
  },
  "nbformat": 4,
  "nbformat_minor": 5
}